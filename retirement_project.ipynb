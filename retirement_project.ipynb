{
 "cells": [
  {
   "cell_type": "markdown",
   "metadata": {
    "id": "A-rPI5zvmwaG"
   },
   "source": [
    "# Retirement Tool\n",
    "\n",
    "By Eial Kestelman\n",
    "\n",
    "Please reach out with any feedback!\n",
    "\n",
    "[Click](#scrollTo=Introduction) to show the introduction and usage guide. See [disclaimer](#scrollTo=Please_note_).\n",
    "\n"
   ]
  },
  {
   "cell_type": "markdown",
   "metadata": {
    "id": "uqV2RAeQDA07"
   },
   "source": [
    "## Introduction\n",
    "\n",
    "This is a tool to facilitate retirement investments choices. Specifically, it tackles the problem of choosing between a traditional (pre-tax) or Roth (post-tax) account. See [Taxes](#scrollTo=Taxes) for more details on the problem that this program addresses.\n",
    "\n",
    "The program will produce a graph allowing us to explore two strategies: you may contribute first to a Roth account for $x$ years before switching to traditional for the remainder of your career, or you may contribute first to a traditional account for $x$ years and then switch to Roth for the remaining years. We will be able to compare the two strategies, and determine when you should switch between the two account types.\n",
    "\n",
    "See the [Explanations](#scrollTo=Explanations) section for more information on interpreting results and how the code works."
   ]
  },
  {
   "cell_type": "markdown",
   "metadata": {
    "id": "IcxoaVL6C70s"
   },
   "source": [
    "## Usage\n",
    "\n",
    "Follow the instructions below to use the tool. You will need to run 1 or 2 code cells for an initial setup, after which you will be prompted to input some values that affect the results of the program. Then run the program to see the results.\n",
    "\n",
    "You can also run all (Runtime > Run all) but you only need to rerun the last code cell if you choose to change your inputs.\n",
    "\n",
    "To run a cell (or group of cells) press the play button on the left of the cell.\n",
    "\n",
    "For explanations about inputs, see [Understanding the Inputs](#scrollTo=Understanding_the_Inputs)."
   ]
  },
  {
   "cell_type": "markdown",
   "metadata": {
    "id": "oQN1-klFiedH"
   },
   "source": [
    "# Setup\n",
    "\n",
    "Run the cell below to import the necessary Python libraries and modules from my [Github repository](https://github.com/ekestelman/retirement-plans).\n",
    "\n",
    "You only need to run this cell once."
   ]
  },
  {
   "cell_type": "code",
   "execution_count": 1,
   "metadata": {
    "cellView": "form",
    "colab": {
     "base_uri": "https://localhost:8080/"
    },
    "collapsed": true,
    "id": "mARKgoDTnHB7",
    "outputId": "ec97da7d-2235-4c2b-cc50-da8b97d5959c"
   },
   "outputs": [
    {
     "name": "stdout",
     "output_type": "stream",
     "text": [
      "Cloning into 'retirement-plans'...\n",
      "remote: Enumerating objects: 199, done.\u001b[K\n",
      "remote: Counting objects: 100% (199/199), done.\u001b[K\n",
      "remote: Compressing objects: 100% (137/137), done.\u001b[K\n",
      "remote: Total 199 (delta 123), reused 133 (delta 62), pack-reused 0\u001b[K\n",
      "Receiving objects: 100% (199/199), 59.79 KiB | 2.85 MiB/s, done.\n",
      "Resolving deltas: 100% (123/123), done.\n",
      "/content/retirement-plans\n"
     ]
    }
   ],
   "source": [
    "# @title\n",
    "!git clone https://github.com/ekestelman/retirement-plans.git\n",
    "%cd \"retirement-plans\"\n",
    "\n",
    "import ipywidgets as widgets\n",
    "import sys\n",
    "import main"
   ]
  },
  {
   "cell_type": "markdown",
   "metadata": {
    "id": "gGSaIqGgkFL1"
   },
   "source": [
    "# Choose Variables\n",
    "\n",
    "Run the cell below and input the desired values.\n",
    "\n",
    "You only need to run this cell once, even if you change your inputs. Rerunning the cell will reset variables to default values.\n",
    "\n",
    "Confused about inputs? See [Understanding the Inputs](#scrollTo=Understanding_the_Inputs)."
   ]
  },
  {
   "cell_type": "code",
   "execution_count": 2,
   "metadata": {
    "cellView": "form",
    "colab": {
     "base_uri": "https://localhost:8080/",
     "height": 392,
     "referenced_widgets": [
      "e67ad0deccb04794a2004e83968e7a4f",
      "7676dfd8330c4d83bb6668d9243bc5b9",
      "590405065e38404c935f190b71b41eb5",
      "a2a4564282da461b833b8de1c106c694",
      "e6d7c09b7e16445182d06add1073eba1",
      "90455155837e4003b480b296125c7537",
      "1c32638ccc6c4f2298bb76ea2db10a6d",
      "6427c20c3d254a6f8abfe9130c4d4d73",
      "b4aac22507404422a742afc7156c8ff1",
      "d31889ca20c04de1bb6917bfb920ac01",
      "78769ac33ff5452b9e2b9de07f1a8f8b",
      "31b0272ca581410eaa12233d360c188b",
      "ad9db3dbf99a4e5aaeff00af91329ec4",
      "afba73a73d6c453e992836f0255f341b",
      "4d262c659ac2437a9bd6f0a5e06561d4",
      "fba0efad45704e1781aaddd7c7fb5f6f",
      "00045e57ce474df0a31e48129a75678d",
      "272c7b09bad9419a8a059792ba8cc7e4",
      "d16366f355284dcdb9f61ba89d17e7a6",
      "aa4f8c2771164c3c8450ae08eab9c763",
      "6ef9670aa8294591a5b237a2f8f4f031",
      "15ff4bd80c6a46b8afab66e9f578f16e",
      "79e3edae40d44ff2906e54f891175c4a",
      "a0ba3f57c12446d792c9893b479e6196",
      "8c0abbaa10e149a5aac8127f556a9e26",
      "2d30ebc82746405cabef0174305229ac",
      "e2431038bfe24518ad6d02941a6350fc",
      "09a52143df2844c19949116930323501",
      "73228365623644cc9b2312511bf4de2b",
      "40dfbdfe99aa4ac4bb0dc152e40766b5",
      "78a239dcc4ce4930a6128258a7537363",
      "cc318fa954704085bc9ede4afa434024",
      "cb098a13ef8f4eee9fb7f929943eaf5c"
     ]
    },
    "collapsed": true,
    "id": "5iawn6nTyz2t",
    "outputId": "07307a23-601a-441b-c4ca-3984d215b6dc"
   },
   "outputs": [
    {
     "name": "stdout",
     "output_type": "stream",
     "text": [
      "Enter your desired values\n",
      "\n"
     ]
    },
    {
     "data": {
      "application/vnd.jupyter.widget-view+json": {
       "model_id": "e67ad0deccb04794a2004e83968e7a4f",
       "version_major": 2,
       "version_minor": 0
      },
      "text/plain": [
       "BoundedFloatText(value=60000.0, description='start sal', max=10000000.0, step=100.0)"
      ]
     },
     "metadata": {},
     "output_type": "display_data"
    },
    {
     "data": {
      "application/vnd.jupyter.widget-view+json": {
       "model_id": "a2a4564282da461b833b8de1c106c694",
       "version_major": 2,
       "version_minor": 0
      },
      "text/plain": [
       "BoundedFloatText(value=90000.0, description='end sal', max=10000000.0, step=100.0)"
      ]
     },
     "metadata": {},
     "output_type": "display_data"
    },
    {
     "data": {
      "application/vnd.jupyter.widget-view+json": {
       "model_id": "1c32638ccc6c4f2298bb76ea2db10a6d",
       "version_major": 2,
       "version_minor": 0
      },
      "text/plain": [
       "BoundedFloatText(value=1.06, description='apy', max=10.0, step=0.01)"
      ]
     },
     "metadata": {},
     "output_type": "display_data"
    },
    {
     "data": {
      "application/vnd.jupyter.widget-view+json": {
       "model_id": "d31889ca20c04de1bb6917bfb920ac01",
       "version_major": 2,
       "version_minor": 0
      },
      "text/plain": [
       "BoundedFloatText(value=0.05, description='cont', max=0.5, step=0.01)"
      ]
     },
     "metadata": {},
     "output_type": "display_data"
    },
    {
     "data": {
      "application/vnd.jupyter.widget-view+json": {
       "model_id": "ad9db3dbf99a4e5aaeff00af91329ec4",
       "version_major": 2,
       "version_minor": 0
      },
      "text/plain": [
       "BoundedFloatText(value=1.01, description='ret apy', max=10.0, step=0.01)"
      ]
     },
     "metadata": {},
     "output_type": "display_data"
    },
    {
     "data": {
      "application/vnd.jupyter.widget-view+json": {
       "model_id": "fba0efad45704e1781aaddd7c7fb5f6f",
       "version_major": 2,
       "version_minor": 0
      },
      "text/plain": [
       "BoundedIntText(value=25, description='age', max=120, min=14)"
      ]
     },
     "metadata": {},
     "output_type": "display_data"
    },
    {
     "data": {
      "application/vnd.jupyter.widget-view+json": {
       "model_id": "d16366f355284dcdb9f61ba89d17e7a6",
       "version_major": 2,
       "version_minor": 0
      },
      "text/plain": [
       "BoundedIntText(value=65, description='ret age', max=120, min=14)"
      ]
     },
     "metadata": {},
     "output_type": "display_data"
    },
    {
     "data": {
      "application/vnd.jupyter.widget-view+json": {
       "model_id": "15ff4bd80c6a46b8afab66e9f578f16e",
       "version_major": 2,
       "version_minor": 0
      },
      "text/plain": [
       "BoundedIntText(value=95, description='life', max=120, min=14)"
      ]
     },
     "metadata": {},
     "output_type": "display_data"
    },
    {
     "data": {
      "application/vnd.jupyter.widget-view+json": {
       "model_id": "8c0abbaa10e149a5aac8127f556a9e26",
       "version_major": 2,
       "version_minor": 0
      },
      "text/plain": [
       "BoundedFloatText(value=0.0, description='bal', max=10000000.0, step=100.0)"
      ]
     },
     "metadata": {},
     "output_type": "display_data"
    },
    {
     "data": {
      "application/vnd.jupyter.widget-view+json": {
       "model_id": "09a52143df2844c19949116930323501",
       "version_major": 2,
       "version_minor": 0
      },
      "text/plain": [
       "BoundedFloatText(value=25000.0, description='pension', max=10000000.0, step=100.0)"
      ]
     },
     "metadata": {},
     "output_type": "display_data"
    },
    {
     "data": {
      "application/vnd.jupyter.widget-view+json": {
       "model_id": "78a239dcc4ce4930a6128258a7537363",
       "version_major": 2,
       "version_minor": 0
      },
      "text/plain": [
       "BoundedFloatText(value=0.03, description='match', max=0.5, step=0.01)"
      ]
     },
     "metadata": {},
     "output_type": "display_data"
    }
   ],
   "source": [
    "# @title\n",
    "sys.argv.append(\"ex\")\n",
    "default_dict = main.get_vals(True)\n",
    "var_dict = {x: None for x in default_dict}\n",
    "del var_dict[\"normalize\"]  # \"normalize\" is deprecated\n",
    "for x in var_dict:\n",
    "  if x in [\"age\", \"ret age\", \"life\"]:  # These need to be ints\n",
    "    var_dict[x] = widgets.BoundedIntText(description=x, min=14, max=120)\n",
    "  else:\n",
    "    if x in [\"cont\", \"match\"]:   # These need to be floats\n",
    "      min, max, step = 0, 0.5, 0.01\n",
    "    elif \"apy\" in x:    # Is this slower?\n",
    "      min, max, step = 0, 10, 0.01   # Misleading to have it reach 10? Maybe cap at 2?\n",
    "    elif (\"sal\" in x) or (x in [\"bal\", \"pension\"]):   # Can be int or float\n",
    "      min, max, step = 0, 1e7, 100    # Remove max? (also in apy?)\n",
    "    var_dict[x] = widgets.BoundedFloatText(description=x, min=min, max=max, step=step)\n",
    "  var_dict[x].value = default_dict[x]\n",
    "\n",
    "print(\"Enter your desired values\\n\")\n",
    "\n",
    "for x in var_dict:\n",
    "  display(var_dict[x])"
   ]
  },
  {
   "cell_type": "markdown",
   "metadata": {
    "id": "mUndgItAklSO"
   },
   "source": [
    "# Run Program\n",
    "\n",
    "Run the cell below to run the program using the chosen values. To rerun the program with new values, simply change the values above as desired, then rerun the cell below."
   ]
  },
  {
   "cell_type": "code",
   "execution_count": 3,
   "metadata": {
    "cellView": "form",
    "colab": {
     "base_uri": "https://localhost:8080/",
     "height": 822
    },
    "id": "Qkb3tErjZnu6",
    "outputId": "651e1c64-c6e9-4bcc-95ea-c9e6b4e33d12"
   },
   "outputs": [
    {
     "name": "stdout",
     "output_type": "stream",
     "text": [
      "------------------------  ----------  ----------  ----------\n",
      "                          Roth first  Trad first  Difference\n",
      "Best year to change:      30          0\n",
      "Best retirement income:   55519       55506       12\n",
      "Worst retirement income:  53015       53015\n",
      "Best - Worst:             2503        2491\n",
      "------------------------  ----------  ----------  ----------\n",
      "Yearly trad withdrawal (pretax): 21571 or 18254\n",
      "\n",
      "Using the Roth first strategy, it is best to switch to traditional\n",
      "after 30 years. Your retirement income (after paying taxes) will be\n",
      "55519. Each year of retirement you should withdraw 21571 (before\n",
      "taxes) from your traditional account.\n",
      "\n",
      "Using the traditional first strategy, it is best to switch to Roth\n",
      "after 0 years. Your retirement income (after paying taxes) will be\n",
      "55506. Each year of retirement you should withdraw 18254 (before\n",
      "taxes) from your traditional account.\n",
      "\n"
     ]
    },
    {
     "data": {
      "image/png": "[encoded data removed]",
      "text/plain": [
       "<Figure size 640x480 with 3 Axes>"
      ]
     },
     "metadata": {},
     "output_type": "display_data"
    }
   ],
   "source": [
    "# @title\n",
    "val_dict = {x: var_dict[x].value for x in var_dict}\n",
    "main.main(val_dict)"
   ]
  },
  {
   "cell_type": "markdown",
   "metadata": {
    "id": "xKECWtBimkFv"
   },
   "source": [
    "# Explanations\n",
    "\n",
    "## Overview\n",
    "\n",
    "The key concept behind this program is that, because a traditional contribution is tax deductible, you can contribute more to a traditional account than to a Roth account without having any impact on your other finances. For more details on this, see [Taxes](#scrollTo=Taxes).\n",
    "\n",
    "[More](#scrollTo=Understanding_the_Plot)"
   ]
  },
  {
   "cell_type": "markdown",
   "metadata": {
    "id": "d_jGuuxm9WYa"
   },
   "source": [
    "## Understanding the Plot\n",
    "\n",
    "The plot shows yearly retirement income plotted against switch year. For example, at $x=5$, the Roth first graph shows your retirement income if you were to contribute to a Roth account for the next 5 years before switching to traditional for the rest of your career.\n",
    "\n",
    "Note that at $x=0$, the Roth first graph represents only ever contributing to a traditional account (because you would be switching to traditional immediately, or after 0 years). Similarly, at $x=0$ the traditional first graph represents only ever contributing to Roth. At $x_{\\max}$, the Roth first and traditional first graphs represent always contributing to Roth or traditional respectively.\n",
    "\n",
    "The maximum of each graph shows the best time to switch from one account type to the other in order to maximize your retirement income. By comparing the two maxima, you can determine which strategy is best. Note that in some cases, one strategy may produce a higher but narrower peak. It may be worth considering whether the narrow peak is worth gambling on, or whether it is best to choose the strategy with a broader peak.\n",
    "\n",
    "Income shown on the *y*-axis is after taxes, so you can compare strategies regardless of whether most funds are coming from a Roth or traditional account. The pie charts show the breakdown of your funds for each strategy in the case that you switch at the optimal time. If the best strategy is to always contribute to the same account, the two pie charts will be the same.\n",
    "\n",
    "The yearly trad withdrawal tells you how much you should take out of your traditional account (before taxes) each year in retirement for the Roth first and traditional first strategies respectively (assuming you switch at the optimal time).\n",
    "\n"
   ]
  },
  {
   "cell_type": "markdown",
   "metadata": {
    "id": "SodwiFNS9cdv"
   },
   "source": [
    "## Understanding the Inputs\n",
    "\n",
    "`start sal` is your current salary.\n",
    "\n",
    "`end sal` is you projected salary before you retire. Projected salaries for each year are filled in linearly from `start sal` to `end sal`.\n",
    "\n",
    "`apy` is your expected yearly returns on investments while working. If you expect $10\\%$ returns, you should input `1.1`. Inputting `10` would represent a $1000\\%$ yearly ROI, while inputting `0.1` would represent a devaluation of $90\\%$.\n",
    "\n",
    "`cont` is your desired contribution to a Roth account, expressed as a fraction of your gross (pre-tax) income. If you want to contribute $10\\%$ of your income each year, you should input `0.1`. Traditional contributions will be calculated by the program (see [Taxes](#scrollTo=Taxes)).\n",
    "\n",
    "`ret apy` is your expected yearly returns in retirement. You may choose a lower amount than `apy` if you expect to transition to a more conservative portfolio. You should input this value in the same way that you input `apy`.\n",
    "\n",
    "`age` is your current age.\n",
    "\n",
    "`ret age` is your expected retirement age.\n",
    "\n",
    "`life` is your life expectancy. It is often recommended to overestimate this because life expectancy has high variance, and we want to avoid running out of money.\n",
    "\n",
    "`bal` is your current traditional (pre-tax) balance. If you already have any funds in a pre-tax account, you should include it here as this will affect your taxes in retirement, and thus impact the results of the program. `bal` should not include funds from any other accounts.\n",
    "\n",
    "`pension` is any taxable permanent income you will receive in retirement. This should include any employee pension, as well as the taxable portion of your anticipated social security benefits.\n",
    "\n",
    "`match` is your employer match, expressed as a fraction of your salary. You should input this value the same way that you input `cont`. Note that there are different ways employers can match contributions, but only one is currently supported by the program: where their match is equal to your contribution, up until some limit. `match` sets this limit. That is, if you set `cont` to $0.05$ and `match` to $0.03$, this represents an employer contribution of $3\\%$ of your salary. If instead you set `cont` to $0.03$ and `match` to $0.05$, this still represents an employer contribution of $3\\%$. While more options may be available in the future, the choice of this implementation was to showcase the significance of maxing out the employer match.\n",
    "\n",
    "## Inflation\n",
    "\n",
    "To account for inflation and get results in present (not inflated) dollars, subtract the expected yearly inflation rate from your expected yearly rate of returns. That is, if you expect $10\\%$ yearly returns and $3\\%$ yearly inflation, you should set `apy` to $1.1 - 1.03 = 1.07$. See [More on Inflation](#scrollTo=More_on_Inflation) for details.\n",
    "\n",
    "You may also choose not to make this adjustment if you wish to see results in future (inflated) dollars.\n",
    "\n",
    "Check back soon for updates on how the code handles inflation!"
   ]
  },
  {
   "cell_type": "markdown",
   "metadata": {
    "id": "6xxI8srZzYKP"
   },
   "source": [
    "# Elaborations\n",
    "\n",
    "[Click](#scrollTo=Simulation_Overview) to show more details on how the code works and some of the math involved. Check back for future updates to see proofs and examples for the claims made in this section."
   ]
  },
  {
   "cell_type": "markdown",
   "metadata": {
    "id": "OMc3jIeMzgVg"
   },
   "source": [
    "## Simulation Overview\n",
    "\n",
    "The code assumes that each year, all retirement contributions go to either a Roth account or a traditional account (i.e., not a combination of both). See [Private Brokerage Account](#scrollTo=Private_Brokerage_Account) for the exception to this rule. Please note that the distinction between Roth and traditional accounts is independent of the distinction between employer-sponsored accounts (such as a 401k) and IRAs. Many employers offer a choice between a traditional and a Roth 401k. It is the choice between these two options that the program helps to assess. If you do not have access to these options, the results of the program may be less accurate (see [Contribution Limits](#scrollTo=Contribution_Limits)).\n",
    "\n",
    "Returns on investments depend on when the investments were made. For simplicity, the code treats your contributions for one year as a single lump sum invested at the end of each year. The code also treats retirement distributions as if they were single lump sum withdrawals made at the end of each year. Mathematically, this is equivalent to treating investmenets and withdrawals as lump sums occuring at the middle of each year. Although this may be unrealistic, it is a pretty good approximation for making monthly investments and withdrawals."
   ]
  },
  {
   "cell_type": "markdown",
   "metadata": {
    "id": "qmEEX16Y4U2k"
   },
   "source": [
    "## Taxes\n",
    "\n",
    "The code uses 2023 guidelines for federal, New York State, and New York City income tax. Other locations may be supported in the future.\n",
    "\n",
    "### Comparison of Account Types\n",
    "\n",
    "The benefit of a Roth account is that you will not owe any taxes on distributions made in retirement.\n",
    "\n",
    "The benefit of a traditional account is that you get a tax break now, which means you can contribute more money to retirement than you could have if you contributed to a Roth account instead.\n",
    "\n",
    "The question that this code attempts to answer is whether the additional amount we can contribute with traditional is worth it, noting that the more we put towards traditional, the more taxes we will pay in retirement.\n",
    "\n",
    "A common suggestion is that if you expect to be in a higher income bracket in retirement, you may benefit from Roth, while if you expect to be in a lower income bracket, you may benefit from traditional. This is a decent rule of thumb, but I conjecture that if you expect to be in a higher bracket, you would *definitely* benefit from Roth, while if you expect to be in a lower bracket, you *may* still benefit from Roth. The reason is that when you contribute more to a traditional account, not only will you owe taxes on those funds in the future, but you also increase your tax liability for all your other traditional funds (past and future) as well as any taxable pension or social security benefits you may have.\n",
    "\n",
    "### Traditional Contributions\n",
    "\n",
    "The `cont` input in the program represents how much you would be willing to contribute to a Roth account (where you would get no tax break). If instead you were to contribute to a traditional account, where you would get a tax break, you could contribute more money without any impact to your other finances (i.e., you could contribute more to a traditional account, and because you would owe less in taxes, you would still have the same amount of money left over).\n",
    "\n",
    "How much more can you put towards retirement if you choose traditional instead of Roth? First let's consider how much money is saved by contributing to traditional. If your effective tax rate is $t$ and your desired Roth contribution is $R$, then you would save $Rt$ by contributing $R$ into traditional. Clearly you could take that $Rt$ and put it towards retirement as well, but then you would save another $Rtt$ which could again be contributed, and so on. The result is the geometric series\n",
    "\n",
    "$$ \\sum_{n=0}^\\infty Rt^n = \\frac{R}{1-t}. $$\n",
    "\n",
    "Hence if your desired Roth contribution is $R$, then your traditional contribution should be $\\frac{R}{1-t}$.\n",
    "\n",
    "In fact, because $t$ is a function of income and your taxable income is lower after making a traditional contribution, you will actually have a bit more money left over after contributing $\\frac{R}{1-t}$ to traditional than if you only contributed $R$ to Roth. On the other hand, this left over money will probably only be realized after receiving a tax return (or owing less when you pay your taxes). Due to tax withholdings on your income, you may not have as much money left over during the year, but the amounts will balance out by tax season.\n",
    "\n",
    "### FICA\n",
    "\n",
    "While traditional retirement contributions are deducted for the purposes of income taxes, they are not deducted for the purposes of FICA. My code does not yet account for this, but in most cases it does not matter. This is because retirement income (e.g., retirement distributions, pensions) are not subject to FICA, as FICA is a payroll tax. My code does not account for this either, and two wrongs make a right (unless your income is above a certain threshold that changes FICA rates)."
   ]
  },
  {
   "cell_type": "markdown",
   "metadata": {
    "id": "oha2T6_Z5rnm"
   },
   "source": [
    "## Contribution Limits\n",
    "\n",
    "Contribution limits are set to the 2023 limit for employer sponsored retirement accounts, such as 401k, 403b, or TSP. If you are not able to contribute to such an account (e.g., you are only able to contribute to an IRA), the results of the program may be less accurate. However, if your potential traditional contributions are below the IRA limit ($6,500 for most people) then the program will work properly.\n",
    "\n",
    "The reason for using the 401k limit and not considering that IRA limit is that only people who earn below a certain amount are eligible to contribute to an IRA. Hence, it is unlikely that someone is both maxing out their 401k and is eligible to contribute to an IRA. If this edge case applies to you, the program may be less accurate.\n",
    "\n",
    "Note that you may not be able to make lump sum contributions to employer sponsored accounts: the way the program computes this is for simplicity, but keep in mind that these contributions may have to be deducted directly from your paycheck."
   ]
  },
  {
   "cell_type": "markdown",
   "metadata": {
    "id": "bDvUamtxYYYT"
   },
   "source": [
    "## More on Inputs\n",
    "\n",
    "### Pension\n",
    "\n",
    "If including anticipated social security in this field, you should only include the taxable portion. For some people, only 50% of their social security benefits are taxable. That does not mean that you are taxed 50% of your benefit amount. Rather that only 50% of your benefit is subject to income taxes. The fraction of your benefit that is taxable depends on your income. For now it is up to you to estimate your benefit amount and how much is taxable (the program will determine the tax rate).\n",
    "\n",
    "### Match\n",
    "\n",
    "Employer matches always go towards a traditional account, even if your contribution was to a Roth account. This means it is possible to have a nonzero traditional balance even if you never contribute to a traditional account."
   ]
  },
  {
   "cell_type": "markdown",
   "metadata": {
    "id": "B8Yvvf_c1Cal"
   },
   "source": [
    "## Private Brokerage Account\n",
    "\n",
    "In the case that the traditional contribution increase puts you over the contribution limit, the program allows for the possibility of contributing the excess amount into a private brokerage account. However, because this investmenet is not tax deductible, we lose the benefit of the geometric series discussed in [Taxes](#scrollTo=Taxes) (subsection: Traditional Contributions). Hence instead of multiplying $R$ by $\\frac{1}{1-t}$, we are limited to multiplying by $1+t$. In fact, this limit is only exact in the case that $R$ is the contribution limit. If instead the contribution limit is greater than $R$ and less than $\\frac{R}{1-t}$, then we should be able to max out a traditional contribution while also investing some amount $P$ into the private brokerage account such that $Rt < P < \\frac{Rt}{1-t}$. However, for simplicity, the program does not do this. It simply allows the traditional account to be maxed out, and if $R(1+t)$ is greater than the contribution limit, then the difference goes into a private brokerage account. Part of the reason for this decision is that I want the recommendations of the program to be relatively easy to follow and compute for the user when choosing what to do with their money.\n",
    "\n",
    "If the program recommends traditional over Roth because of the possibility to invest in a private brokerage account, you have to promise you will set aside money for this purpose! Otherwise there is no point in choosing traditional instead of Roth when it comes to maximizing your retirement income. If you are simply going to invest the limit without making any adjustment for traditional contributions, your retirement budget will be better served by a Roth account. If instead your goal is to save money now, you should lower your `cont` amount.\n",
    "\n",
    "### More Taxes\n",
    "\n",
    "Taxes on private brokerage account withdrawals are a complicated matter. Profits from sale of assets will be subject to capital gains tax. Because realized gains are likely to increase the longer you hold an asset, you are likely to owe more taxes for selling the same quantity (or value) of assets later than if you sold earlier. This does not mean you should sell earlier (since you might expect the value to continue growing). It simply means that it is complicated to calculate a yearly income from your private brokerage account. For now, the code simply assumes that you sell all your assets the year you retire. The realized gain is then equal to the sell value minus the total amoun invested throughout your career. This profit is then taxed at the long term capital gains tax rate. Of course if you actually sold all your assets in one year, you might find yourself in a higher capital gains tax bracket. Realistically, you would space out these sales, so this computation serves as a lower bound for your estimated private brokerage funds in retirement."
   ]
  },
  {
   "cell_type": "markdown",
   "metadata": {
    "id": "WgHA0xUf9OI_"
   },
   "source": [
    "## More on Inflation\n",
    "\n",
    "You should not adjust your future salaries for inflation. Rather, your input should always be in present dollars. The reason for this is that the code does not attempt to predict future tax brackets or contribution limits, which are frequently adjusted for inflation and cost of living.\n",
    "\n",
    "If you want your results expressed in present dollars, divide your expected APY by the expected yearly inflation rate. For example, if you expect 10% yearly returns and 3% yearly inflation, then you should input $\\frac{1.10}{1.03} \\approx 1.068$ as your `apy` instead of 1.10. For an easy approximation simply subtract $10\\% - 3\\% = 7\\%$, thus you may input 1.07 for `apy`.\n",
    "\n",
    "If you want results expressed in future (inflated) dollars, simply use 1.10 (or whatever returns you expect)."
   ]
  },
  {
   "cell_type": "markdown",
   "metadata": {
    "id": "bzbso9sK2ClD"
   },
   "source": [
    "## What About...\n",
    "\n",
    "### Post-Tax Balance?\n",
    "\n",
    "This does not affect taxes in retirement, so there is no need to take it into account.\n",
    "\n",
    "### Conservative Estimates for Market Growth?\n",
    "\n",
    "The purpose of this program is primarily to determine when to contribute to Roth or traditional retirement accounts, and not to get a conservative budget for your retirement. You can play around with different `apy` inputs to get a sense of how this variable might affect your decisions, but it may be best to decide based on expected rather than conservative values.\n",
    "\n",
    "Conversely, I still recommend choosing `life` conservatively. This is because you may still choose to budget your retirement funds in anticipation of a longer life expectancy, regardless of how long you actually end up living. Your taxes in retirement depend on how much you withdraw each year. If you intend to budget based on an overestimated life expectancy, your input here should reflect that.\n",
    "\n",
    "### Contributing to Roth and Private Brokerage?\n",
    "\n",
    "The code only accounts for possible private brokerage investments if you choose traditional over Roth. Of course you can max out your Roth account and still invest in a private brokerage account on top of that. However, any additional private investment you make here should also be made if you chose traditional instead, in addition to the previously discussed excess amount. Because the tax brackets for long term capital gains are so wide, we will assume that any other investments you will make or have made do not matter. Again, the goal is not to get the best estimate for your retirement budget, but rather the best comparison of two possible strategies. For this purpose, we only need to consider the difference in private investments, which would be the excess computed in the code (as described under [Private Brokerage Account](#scrollTo=Private_Brokerage_Account))."
   ]
  },
  {
   "cell_type": "markdown",
   "metadata": {
    "id": "wb5YJkJQaDZW"
   },
   "source": [
    "## Other Calculations\n",
    "\n",
    "Coming soon!"
   ]
  },
  {
   "cell_type": "markdown",
   "metadata": {
    "id": "0PsD09LU762Z"
   },
   "source": [
    "# Disclaimer\n",
    "\n",
    "[View disclaimer](#scrollTo=Please_note_)"
   ]
  },
  {
   "cell_type": "markdown",
   "metadata": {
    "id": "M_3fib8K-OBN"
   },
   "source": [
    "##### Please note:\n",
    "\n",
    "While I have researched tax and retirement policies to make my code as accurate as possible, I am not a financial professional and may be missing important information. Feel free to let me know if you believe I have overlooked something important.\n",
    "\n",
    "THE SOFTWARE IS PROVIDED \"AS IS\", WITHOUT WARRANTY OF ANY KIND, EXPRESS OR\n",
    "IMPLIED, INCLUDING BUT NOT LIMITED TO THE WARRANTIES OF MERCHANTABILITY,\n",
    "FITNESS FOR A PARTICULAR PURPOSE AND NONINFRINGEMENT. IN NO EVENT SHALL THE\n",
    "AUTHORS OR COPYRIGHT HOLDERS BE LIABLE FOR ANY CLAIM, DAMAGES OR OTHER\n",
    "LIABILITY, WHETHER IN AN ACTION OF CONTRACT, TORT OR OTHERWISE, ARISING FROM,\n",
    "OUT OF OR IN CONNECTION WITH THE SOFTWARE OR THE USE OR OTHER DEALINGS IN THE\n",
    "SOFTWARE."
   ]
  }
 ],
 "metadata": {
  "colab": {
   "collapsed_sections": [
    "A-rPI5zvmwaG",
    "xKECWtBimkFv",
    "6xxI8srZzYKP",
    "0PsD09LU762Z",
    "prJUESrRn4kO",
    "e1dbl_TA-TOt"
   ],
   "provenance": [],
   "toc_visible": true
  },
  "kernelspec": {
   "display_name": "Python 3",
   "language": "python",
   "name": "python3"
  },
  "language_info": {
   "codemirror_mode": {
    "name": "ipython",
    "version": 3
   },
   "file_extension": ".py",
   "mimetype": "text/x-python",
   "name": "python",
   "nbconvert_exporter": "python",
   "pygments_lexer": "ipython3",
   "version": "3.8.5"
  },
  "widgets": {
   "application/vnd.jupyter.widget-state+json": {
    "00045e57ce474df0a31e48129a75678d": {
     "model_module": "@jupyter-widgets/base",
     "model_module_version": "1.2.0",
     "model_name": "LayoutModel",
     "state": {
      "_model_module": "@jupyter-widgets/base",
      "_model_module_version": "1.2.0",
      "_model_name": "LayoutModel",
      "_view_count": null,
      "_view_module": "@jupyter-widgets/base",
      "_view_module_version": "1.2.0",
      "_view_name": "LayoutView",
      "align_content": null,
      "align_items": null,
      "align_self": null,
      "border": null,
      "bottom": null,
      "display": null,
      "flex": null,
      "flex_flow": null,
      "grid_area": null,
      "grid_auto_columns": null,
      "grid_auto_flow": null,
      "grid_auto_rows": null,
      "grid_column": null,
      "grid_gap": null,
      "grid_row": null,
      "grid_template_areas": null,
      "grid_template_columns": null,
      "grid_template_rows": null,
      "height": null,
      "justify_content": null,
      "justify_items": null,
      "left": null,
      "margin": null,
      "max_height": null,
      "max_width": null,
      "min_height": null,
      "min_width": null,
      "object_fit": null,
      "object_position": null,
      "order": null,
      "overflow": null,
      "overflow_x": null,
      "overflow_y": null,
      "padding": null,
      "right": null,
      "top": null,
      "visibility": null,
      "width": null
     }
    },
    "09a52143df2844c19949116930323501": {
     "model_module": "@jupyter-widgets/controls",
     "model_module_version": "1.5.0",
     "model_name": "BoundedFloatTextModel",
     "state": {
      "_dom_classes": [],
      "_model_module": "@jupyter-widgets/controls",
      "_model_module_version": "1.5.0",
      "_model_name": "BoundedFloatTextModel",
      "_view_count": null,
      "_view_module": "@jupyter-widgets/controls",
      "_view_module_version": "1.5.0",
      "_view_name": "FloatTextView",
      "continuous_update": false,
      "description": "pension",
      "description_tooltip": null,
      "disabled": false,
      "layout": "IPY_MODEL_73228365623644cc9b2312511bf4de2b",
      "max": 10000000,
      "min": 0,
      "step": 100,
      "style": "IPY_MODEL_40dfbdfe99aa4ac4bb0dc152e40766b5",
      "value": 25000
     }
    },
    "15ff4bd80c6a46b8afab66e9f578f16e": {
     "model_module": "@jupyter-widgets/controls",
     "model_module_version": "1.5.0",
     "model_name": "BoundedIntTextModel",
     "state": {
      "_dom_classes": [],
      "_model_module": "@jupyter-widgets/controls",
      "_model_module_version": "1.5.0",
      "_model_name": "BoundedIntTextModel",
      "_view_count": null,
      "_view_module": "@jupyter-widgets/controls",
      "_view_module_version": "1.5.0",
      "_view_name": "IntTextView",
      "continuous_update": false,
      "description": "life",
      "description_tooltip": null,
      "disabled": false,
      "layout": "IPY_MODEL_79e3edae40d44ff2906e54f891175c4a",
      "max": 120,
      "min": 14,
      "step": 1,
      "style": "IPY_MODEL_a0ba3f57c12446d792c9893b479e6196",
      "value": 95
     }
    },
    "1c32638ccc6c4f2298bb76ea2db10a6d": {
     "model_module": "@jupyter-widgets/controls",
     "model_module_version": "1.5.0",
     "model_name": "BoundedFloatTextModel",
     "state": {
      "_dom_classes": [],
      "_model_module": "@jupyter-widgets/controls",
      "_model_module_version": "1.5.0",
      "_model_name": "BoundedFloatTextModel",
      "_view_count": null,
      "_view_module": "@jupyter-widgets/controls",
      "_view_module_version": "1.5.0",
      "_view_name": "FloatTextView",
      "continuous_update": false,
      "description": "apy",
      "description_tooltip": null,
      "disabled": false,
      "layout": "IPY_MODEL_6427c20c3d254a6f8abfe9130c4d4d73",
      "max": 10,
      "min": 0,
      "step": 0.01,
      "style": "IPY_MODEL_b4aac22507404422a742afc7156c8ff1",
      "value": 1.06
     }
    },
    "272c7b09bad9419a8a059792ba8cc7e4": {
     "model_module": "@jupyter-widgets/controls",
     "model_module_version": "1.5.0",
     "model_name": "DescriptionStyleModel",
     "state": {
      "_model_module": "@jupyter-widgets/controls",
      "_model_module_version": "1.5.0",
      "_model_name": "DescriptionStyleModel",
      "_view_count": null,
      "_view_module": "@jupyter-widgets/base",
      "_view_module_version": "1.2.0",
      "_view_name": "StyleView",
      "description_width": ""
     }
    },
    "2d30ebc82746405cabef0174305229ac": {
     "model_module": "@jupyter-widgets/base",
     "model_module_version": "1.2.0",
     "model_name": "LayoutModel",
     "state": {
      "_model_module": "@jupyter-widgets/base",
      "_model_module_version": "1.2.0",
      "_model_name": "LayoutModel",
      "_view_count": null,
      "_view_module": "@jupyter-widgets/base",
      "_view_module_version": "1.2.0",
      "_view_name": "LayoutView",
      "align_content": null,
      "align_items": null,
      "align_self": null,
      "border": null,
      "bottom": null,
      "display": null,
      "flex": null,
      "flex_flow": null,
      "grid_area": null,
      "grid_auto_columns": null,
      "grid_auto_flow": null,
      "grid_auto_rows": null,
      "grid_column": null,
      "grid_gap": null,
      "grid_row": null,
      "grid_template_areas": null,
      "grid_template_columns": null,
      "grid_template_rows": null,
      "height": null,
      "justify_content": null,
      "justify_items": null,
      "left": null,
      "margin": null,
      "max_height": null,
      "max_width": null,
      "min_height": null,
      "min_width": null,
      "object_fit": null,
      "object_position": null,
      "order": null,
      "overflow": null,
      "overflow_x": null,
      "overflow_y": null,
      "padding": null,
      "right": null,
      "top": null,
      "visibility": null,
      "width": null
     }
    },
    "31b0272ca581410eaa12233d360c188b": {
     "model_module": "@jupyter-widgets/controls",
     "model_module_version": "1.5.0",
     "model_name": "DescriptionStyleModel",
     "state": {
      "_model_module": "@jupyter-widgets/controls",
      "_model_module_version": "1.5.0",
      "_model_name": "DescriptionStyleModel",
      "_view_count": null,
      "_view_module": "@jupyter-widgets/base",
      "_view_module_version": "1.2.0",
      "_view_name": "StyleView",
      "description_width": ""
     }
    },
    "40dfbdfe99aa4ac4bb0dc152e40766b5": {
     "model_module": "@jupyter-widgets/controls",
     "model_module_version": "1.5.0",
     "model_name": "DescriptionStyleModel",
     "state": {
      "_model_module": "@jupyter-widgets/controls",
      "_model_module_version": "1.5.0",
      "_model_name": "DescriptionStyleModel",
      "_view_count": null,
      "_view_module": "@jupyter-widgets/base",
      "_view_module_version": "1.2.0",
      "_view_name": "StyleView",
      "description_width": ""
     }
    },
    "4d262c659ac2437a9bd6f0a5e06561d4": {
     "model_module": "@jupyter-widgets/controls",
     "model_module_version": "1.5.0",
     "model_name": "DescriptionStyleModel",
     "state": {
      "_model_module": "@jupyter-widgets/controls",
      "_model_module_version": "1.5.0",
      "_model_name": "DescriptionStyleModel",
      "_view_count": null,
      "_view_module": "@jupyter-widgets/base",
      "_view_module_version": "1.2.0",
      "_view_name": "StyleView",
      "description_width": ""
     }
    },
    "590405065e38404c935f190b71b41eb5": {
     "model_module": "@jupyter-widgets/controls",
     "model_module_version": "1.5.0",
     "model_name": "DescriptionStyleModel",
     "state": {
      "_model_module": "@jupyter-widgets/controls",
      "_model_module_version": "1.5.0",
      "_model_name": "DescriptionStyleModel",
      "_view_count": null,
      "_view_module": "@jupyter-widgets/base",
      "_view_module_version": "1.2.0",
      "_view_name": "StyleView",
      "description_width": ""
     }
    },
    "6427c20c3d254a6f8abfe9130c4d4d73": {
     "model_module": "@jupyter-widgets/base",
     "model_module_version": "1.2.0",
     "model_name": "LayoutModel",
     "state": {
      "_model_module": "@jupyter-widgets/base",
      "_model_module_version": "1.2.0",
      "_model_name": "LayoutModel",
      "_view_count": null,
      "_view_module": "@jupyter-widgets/base",
      "_view_module_version": "1.2.0",
      "_view_name": "LayoutView",
      "align_content": null,
      "align_items": null,
      "align_self": null,
      "border": null,
      "bottom": null,
      "display": null,
      "flex": null,
      "flex_flow": null,
      "grid_area": null,
      "grid_auto_columns": null,
      "grid_auto_flow": null,
      "grid_auto_rows": null,
      "grid_column": null,
      "grid_gap": null,
      "grid_row": null,
      "grid_template_areas": null,
      "grid_template_columns": null,
      "grid_template_rows": null,
      "height": null,
      "justify_content": null,
      "justify_items": null,
      "left": null,
      "margin": null,
      "max_height": null,
      "max_width": null,
      "min_height": null,
      "min_width": null,
      "object_fit": null,
      "object_position": null,
      "order": null,
      "overflow": null,
      "overflow_x": null,
      "overflow_y": null,
      "padding": null,
      "right": null,
      "top": null,
      "visibility": null,
      "width": null
     }
    },
    "6ef9670aa8294591a5b237a2f8f4f031": {
     "model_module": "@jupyter-widgets/controls",
     "model_module_version": "1.5.0",
     "model_name": "DescriptionStyleModel",
     "state": {
      "_model_module": "@jupyter-widgets/controls",
      "_model_module_version": "1.5.0",
      "_model_name": "DescriptionStyleModel",
      "_view_count": null,
      "_view_module": "@jupyter-widgets/base",
      "_view_module_version": "1.2.0",
      "_view_name": "StyleView",
      "description_width": ""
     }
    },
    "73228365623644cc9b2312511bf4de2b": {
     "model_module": "@jupyter-widgets/base",
     "model_module_version": "1.2.0",
     "model_name": "LayoutModel",
     "state": {
      "_model_module": "@jupyter-widgets/base",
      "_model_module_version": "1.2.0",
      "_model_name": "LayoutModel",
      "_view_count": null,
      "_view_module": "@jupyter-widgets/base",
      "_view_module_version": "1.2.0",
      "_view_name": "LayoutView",
      "align_content": null,
      "align_items": null,
      "align_self": null,
      "border": null,
      "bottom": null,
      "display": null,
      "flex": null,
      "flex_flow": null,
      "grid_area": null,
      "grid_auto_columns": null,
      "grid_auto_flow": null,
      "grid_auto_rows": null,
      "grid_column": null,
      "grid_gap": null,
      "grid_row": null,
      "grid_template_areas": null,
      "grid_template_columns": null,
      "grid_template_rows": null,
      "height": null,
      "justify_content": null,
      "justify_items": null,
      "left": null,
      "margin": null,
      "max_height": null,
      "max_width": null,
      "min_height": null,
      "min_width": null,
      "object_fit": null,
      "object_position": null,
      "order": null,
      "overflow": null,
      "overflow_x": null,
      "overflow_y": null,
      "padding": null,
      "right": null,
      "top": null,
      "visibility": null,
      "width": null
     }
    },
    "7676dfd8330c4d83bb6668d9243bc5b9": {
     "model_module": "@jupyter-widgets/base",
     "model_module_version": "1.2.0",
     "model_name": "LayoutModel",
     "state": {
      "_model_module": "@jupyter-widgets/base",
      "_model_module_version": "1.2.0",
      "_model_name": "LayoutModel",
      "_view_count": null,
      "_view_module": "@jupyter-widgets/base",
      "_view_module_version": "1.2.0",
      "_view_name": "LayoutView",
      "align_content": null,
      "align_items": null,
      "align_self": null,
      "border": null,
      "bottom": null,
      "display": null,
      "flex": null,
      "flex_flow": null,
      "grid_area": null,
      "grid_auto_columns": null,
      "grid_auto_flow": null,
      "grid_auto_rows": null,
      "grid_column": null,
      "grid_gap": null,
      "grid_row": null,
      "grid_template_areas": null,
      "grid_template_columns": null,
      "grid_template_rows": null,
      "height": null,
      "justify_content": null,
      "justify_items": null,
      "left": null,
      "margin": null,
      "max_height": null,
      "max_width": null,
      "min_height": null,
      "min_width": null,
      "object_fit": null,
      "object_position": null,
      "order": null,
      "overflow": null,
      "overflow_x": null,
      "overflow_y": null,
      "padding": null,
      "right": null,
      "top": null,
      "visibility": null,
      "width": null
     }
    },
    "78769ac33ff5452b9e2b9de07f1a8f8b": {
     "model_module": "@jupyter-widgets/base",
     "model_module_version": "1.2.0",
     "model_name": "LayoutModel",
     "state": {
      "_model_module": "@jupyter-widgets/base",
      "_model_module_version": "1.2.0",
      "_model_name": "LayoutModel",
      "_view_count": null,
      "_view_module": "@jupyter-widgets/base",
      "_view_module_version": "1.2.0",
      "_view_name": "LayoutView",
      "align_content": null,
      "align_items": null,
      "align_self": null,
      "border": null,
      "bottom": null,
      "display": null,
      "flex": null,
      "flex_flow": null,
      "grid_area": null,
      "grid_auto_columns": null,
      "grid_auto_flow": null,
      "grid_auto_rows": null,
      "grid_column": null,
      "grid_gap": null,
      "grid_row": null,
      "grid_template_areas": null,
      "grid_template_columns": null,
      "grid_template_rows": null,
      "height": null,
      "justify_content": null,
      "justify_items": null,
      "left": null,
      "margin": null,
      "max_height": null,
      "max_width": null,
      "min_height": null,
      "min_width": null,
      "object_fit": null,
      "object_position": null,
      "order": null,
      "overflow": null,
      "overflow_x": null,
      "overflow_y": null,
      "padding": null,
      "right": null,
      "top": null,
      "visibility": null,
      "width": null
     }
    },
    "78a239dcc4ce4930a6128258a7537363": {
     "model_module": "@jupyter-widgets/controls",
     "model_module_version": "1.5.0",
     "model_name": "BoundedFloatTextModel",
     "state": {
      "_dom_classes": [],
      "_model_module": "@jupyter-widgets/controls",
      "_model_module_version": "1.5.0",
      "_model_name": "BoundedFloatTextModel",
      "_view_count": null,
      "_view_module": "@jupyter-widgets/controls",
      "_view_module_version": "1.5.0",
      "_view_name": "FloatTextView",
      "continuous_update": false,
      "description": "match",
      "description_tooltip": null,
      "disabled": false,
      "layout": "IPY_MODEL_cc318fa954704085bc9ede4afa434024",
      "max": 0.5,
      "min": 0,
      "step": 0.01,
      "style": "IPY_MODEL_cb098a13ef8f4eee9fb7f929943eaf5c",
      "value": 0.03
     }
    },
    "79e3edae40d44ff2906e54f891175c4a": {
     "model_module": "@jupyter-widgets/base",
     "model_module_version": "1.2.0",
     "model_name": "LayoutModel",
     "state": {
      "_model_module": "@jupyter-widgets/base",
      "_model_module_version": "1.2.0",
      "_model_name": "LayoutModel",
      "_view_count": null,
      "_view_module": "@jupyter-widgets/base",
      "_view_module_version": "1.2.0",
      "_view_name": "LayoutView",
      "align_content": null,
      "align_items": null,
      "align_self": null,
      "border": null,
      "bottom": null,
      "display": null,
      "flex": null,
      "flex_flow": null,
      "grid_area": null,
      "grid_auto_columns": null,
      "grid_auto_flow": null,
      "grid_auto_rows": null,
      "grid_column": null,
      "grid_gap": null,
      "grid_row": null,
      "grid_template_areas": null,
      "grid_template_columns": null,
      "grid_template_rows": null,
      "height": null,
      "justify_content": null,
      "justify_items": null,
      "left": null,
      "margin": null,
      "max_height": null,
      "max_width": null,
      "min_height": null,
      "min_width": null,
      "object_fit": null,
      "object_position": null,
      "order": null,
      "overflow": null,
      "overflow_x": null,
      "overflow_y": null,
      "padding": null,
      "right": null,
      "top": null,
      "visibility": null,
      "width": null
     }
    },
    "8c0abbaa10e149a5aac8127f556a9e26": {
     "model_module": "@jupyter-widgets/controls",
     "model_module_version": "1.5.0",
     "model_name": "BoundedFloatTextModel",
     "state": {
      "_dom_classes": [],
      "_model_module": "@jupyter-widgets/controls",
      "_model_module_version": "1.5.0",
      "_model_name": "BoundedFloatTextModel",
      "_view_count": null,
      "_view_module": "@jupyter-widgets/controls",
      "_view_module_version": "1.5.0",
      "_view_name": "FloatTextView",
      "continuous_update": false,
      "description": "bal",
      "description_tooltip": null,
      "disabled": false,
      "layout": "IPY_MODEL_2d30ebc82746405cabef0174305229ac",
      "max": 10000000,
      "min": 0,
      "step": 100,
      "style": "IPY_MODEL_e2431038bfe24518ad6d02941a6350fc",
      "value": 0
     }
    },
    "90455155837e4003b480b296125c7537": {
     "model_module": "@jupyter-widgets/controls",
     "model_module_version": "1.5.0",
     "model_name": "DescriptionStyleModel",
     "state": {
      "_model_module": "@jupyter-widgets/controls",
      "_model_module_version": "1.5.0",
      "_model_name": "DescriptionStyleModel",
      "_view_count": null,
      "_view_module": "@jupyter-widgets/base",
      "_view_module_version": "1.2.0",
      "_view_name": "StyleView",
      "description_width": ""
     }
    },
    "a0ba3f57c12446d792c9893b479e6196": {
     "model_module": "@jupyter-widgets/controls",
     "model_module_version": "1.5.0",
     "model_name": "DescriptionStyleModel",
     "state": {
      "_model_module": "@jupyter-widgets/controls",
      "_model_module_version": "1.5.0",
      "_model_name": "DescriptionStyleModel",
      "_view_count": null,
      "_view_module": "@jupyter-widgets/base",
      "_view_module_version": "1.2.0",
      "_view_name": "StyleView",
      "description_width": ""
     }
    },
    "a2a4564282da461b833b8de1c106c694": {
     "model_module": "@jupyter-widgets/controls",
     "model_module_version": "1.5.0",
     "model_name": "BoundedFloatTextModel",
     "state": {
      "_dom_classes": [],
      "_model_module": "@jupyter-widgets/controls",
      "_model_module_version": "1.5.0",
      "_model_name": "BoundedFloatTextModel",
      "_view_count": null,
      "_view_module": "@jupyter-widgets/controls",
      "_view_module_version": "1.5.0",
      "_view_name": "FloatTextView",
      "continuous_update": false,
      "description": "end sal",
      "description_tooltip": null,
      "disabled": false,
      "layout": "IPY_MODEL_e6d7c09b7e16445182d06add1073eba1",
      "max": 10000000,
      "min": 0,
      "step": 100,
      "style": "IPY_MODEL_90455155837e4003b480b296125c7537",
      "value": 90000
     }
    },
    "aa4f8c2771164c3c8450ae08eab9c763": {
     "model_module": "@jupyter-widgets/base",
     "model_module_version": "1.2.0",
     "model_name": "LayoutModel",
     "state": {
      "_model_module": "@jupyter-widgets/base",
      "_model_module_version": "1.2.0",
      "_model_name": "LayoutModel",
      "_view_count": null,
      "_view_module": "@jupyter-widgets/base",
      "_view_module_version": "1.2.0",
      "_view_name": "LayoutView",
      "align_content": null,
      "align_items": null,
      "align_self": null,
      "border": null,
      "bottom": null,
      "display": null,
      "flex": null,
      "flex_flow": null,
      "grid_area": null,
      "grid_auto_columns": null,
      "grid_auto_flow": null,
      "grid_auto_rows": null,
      "grid_column": null,
      "grid_gap": null,
      "grid_row": null,
      "grid_template_areas": null,
      "grid_template_columns": null,
      "grid_template_rows": null,
      "height": null,
      "justify_content": null,
      "justify_items": null,
      "left": null,
      "margin": null,
      "max_height": null,
      "max_width": null,
      "min_height": null,
      "min_width": null,
      "object_fit": null,
      "object_position": null,
      "order": null,
      "overflow": null,
      "overflow_x": null,
      "overflow_y": null,
      "padding": null,
      "right": null,
      "top": null,
      "visibility": null,
      "width": null
     }
    },
    "ad9db3dbf99a4e5aaeff00af91329ec4": {
     "model_module": "@jupyter-widgets/controls",
     "model_module_version": "1.5.0",
     "model_name": "BoundedFloatTextModel",
     "state": {
      "_dom_classes": [],
      "_model_module": "@jupyter-widgets/controls",
      "_model_module_version": "1.5.0",
      "_model_name": "BoundedFloatTextModel",
      "_view_count": null,
      "_view_module": "@jupyter-widgets/controls",
      "_view_module_version": "1.5.0",
      "_view_name": "FloatTextView",
      "continuous_update": false,
      "description": "ret apy",
      "description_tooltip": null,
      "disabled": false,
      "layout": "IPY_MODEL_afba73a73d6c453e992836f0255f341b",
      "max": 10,
      "min": 0,
      "step": 0.01,
      "style": "IPY_MODEL_4d262c659ac2437a9bd6f0a5e06561d4",
      "value": 1.01
     }
    },
    "afba73a73d6c453e992836f0255f341b": {
     "model_module": "@jupyter-widgets/base",
     "model_module_version": "1.2.0",
     "model_name": "LayoutModel",
     "state": {
      "_model_module": "@jupyter-widgets/base",
      "_model_module_version": "1.2.0",
      "_model_name": "LayoutModel",
      "_view_count": null,
      "_view_module": "@jupyter-widgets/base",
      "_view_module_version": "1.2.0",
      "_view_name": "LayoutView",
      "align_content": null,
      "align_items": null,
      "align_self": null,
      "border": null,
      "bottom": null,
      "display": null,
      "flex": null,
      "flex_flow": null,
      "grid_area": null,
      "grid_auto_columns": null,
      "grid_auto_flow": null,
      "grid_auto_rows": null,
      "grid_column": null,
      "grid_gap": null,
      "grid_row": null,
      "grid_template_areas": null,
      "grid_template_columns": null,
      "grid_template_rows": null,
      "height": null,
      "justify_content": null,
      "justify_items": null,
      "left": null,
      "margin": null,
      "max_height": null,
      "max_width": null,
      "min_height": null,
      "min_width": null,
      "object_fit": null,
      "object_position": null,
      "order": null,
      "overflow": null,
      "overflow_x": null,
      "overflow_y": null,
      "padding": null,
      "right": null,
      "top": null,
      "visibility": null,
      "width": null
     }
    },
    "b4aac22507404422a742afc7156c8ff1": {
     "model_module": "@jupyter-widgets/controls",
     "model_module_version": "1.5.0",
     "model_name": "DescriptionStyleModel",
     "state": {
      "_model_module": "@jupyter-widgets/controls",
      "_model_module_version": "1.5.0",
      "_model_name": "DescriptionStyleModel",
      "_view_count": null,
      "_view_module": "@jupyter-widgets/base",
      "_view_module_version": "1.2.0",
      "_view_name": "StyleView",
      "description_width": ""
     }
    },
    "cb098a13ef8f4eee9fb7f929943eaf5c": {
     "model_module": "@jupyter-widgets/controls",
     "model_module_version": "1.5.0",
     "model_name": "DescriptionStyleModel",
     "state": {
      "_model_module": "@jupyter-widgets/controls",
      "_model_module_version": "1.5.0",
      "_model_name": "DescriptionStyleModel",
      "_view_count": null,
      "_view_module": "@jupyter-widgets/base",
      "_view_module_version": "1.2.0",
      "_view_name": "StyleView",
      "description_width": ""
     }
    },
    "cc318fa954704085bc9ede4afa434024": {
     "model_module": "@jupyter-widgets/base",
     "model_module_version": "1.2.0",
     "model_name": "LayoutModel",
     "state": {
      "_model_module": "@jupyter-widgets/base",
      "_model_module_version": "1.2.0",
      "_model_name": "LayoutModel",
      "_view_count": null,
      "_view_module": "@jupyter-widgets/base",
      "_view_module_version": "1.2.0",
      "_view_name": "LayoutView",
      "align_content": null,
      "align_items": null,
      "align_self": null,
      "border": null,
      "bottom": null,
      "display": null,
      "flex": null,
      "flex_flow": null,
      "grid_area": null,
      "grid_auto_columns": null,
      "grid_auto_flow": null,
      "grid_auto_rows": null,
      "grid_column": null,
      "grid_gap": null,
      "grid_row": null,
      "grid_template_areas": null,
      "grid_template_columns": null,
      "grid_template_rows": null,
      "height": null,
      "justify_content": null,
      "justify_items": null,
      "left": null,
      "margin": null,
      "max_height": null,
      "max_width": null,
      "min_height": null,
      "min_width": null,
      "object_fit": null,
      "object_position": null,
      "order": null,
      "overflow": null,
      "overflow_x": null,
      "overflow_y": null,
      "padding": null,
      "right": null,
      "top": null,
      "visibility": null,
      "width": null
     }
    },
    "d16366f355284dcdb9f61ba89d17e7a6": {
     "model_module": "@jupyter-widgets/controls",
     "model_module_version": "1.5.0",
     "model_name": "BoundedIntTextModel",
     "state": {
      "_dom_classes": [],
      "_model_module": "@jupyter-widgets/controls",
      "_model_module_version": "1.5.0",
      "_model_name": "BoundedIntTextModel",
      "_view_count": null,
      "_view_module": "@jupyter-widgets/controls",
      "_view_module_version": "1.5.0",
      "_view_name": "IntTextView",
      "continuous_update": false,
      "description": "ret age",
      "description_tooltip": null,
      "disabled": false,
      "layout": "IPY_MODEL_aa4f8c2771164c3c8450ae08eab9c763",
      "max": 120,
      "min": 14,
      "step": 1,
      "style": "IPY_MODEL_6ef9670aa8294591a5b237a2f8f4f031",
      "value": 65
     }
    },
    "d31889ca20c04de1bb6917bfb920ac01": {
     "model_module": "@jupyter-widgets/controls",
     "model_module_version": "1.5.0",
     "model_name": "BoundedFloatTextModel",
     "state": {
      "_dom_classes": [],
      "_model_module": "@jupyter-widgets/controls",
      "_model_module_version": "1.5.0",
      "_model_name": "BoundedFloatTextModel",
      "_view_count": null,
      "_view_module": "@jupyter-widgets/controls",
      "_view_module_version": "1.5.0",
      "_view_name": "FloatTextView",
      "continuous_update": false,
      "description": "cont",
      "description_tooltip": null,
      "disabled": false,
      "layout": "IPY_MODEL_78769ac33ff5452b9e2b9de07f1a8f8b",
      "max": 0.5,
      "min": 0,
      "step": 0.01,
      "style": "IPY_MODEL_31b0272ca581410eaa12233d360c188b",
      "value": 0.05
     }
    },
    "e2431038bfe24518ad6d02941a6350fc": {
     "model_module": "@jupyter-widgets/controls",
     "model_module_version": "1.5.0",
     "model_name": "DescriptionStyleModel",
     "state": {
      "_model_module": "@jupyter-widgets/controls",
      "_model_module_version": "1.5.0",
      "_model_name": "DescriptionStyleModel",
      "_view_count": null,
      "_view_module": "@jupyter-widgets/base",
      "_view_module_version": "1.2.0",
      "_view_name": "StyleView",
      "description_width": ""
     }
    },
    "e67ad0deccb04794a2004e83968e7a4f": {
     "model_module": "@jupyter-widgets/controls",
     "model_module_version": "1.5.0",
     "model_name": "BoundedFloatTextModel",
     "state": {
      "_dom_classes": [],
      "_model_module": "@jupyter-widgets/controls",
      "_model_module_version": "1.5.0",
      "_model_name": "BoundedFloatTextModel",
      "_view_count": null,
      "_view_module": "@jupyter-widgets/controls",
      "_view_module_version": "1.5.0",
      "_view_name": "FloatTextView",
      "continuous_update": false,
      "description": "start sal",
      "description_tooltip": null,
      "disabled": false,
      "layout": "IPY_MODEL_7676dfd8330c4d83bb6668d9243bc5b9",
      "max": 10000000,
      "min": 0,
      "step": 100,
      "style": "IPY_MODEL_590405065e38404c935f190b71b41eb5",
      "value": 60000
     }
    },
    "e6d7c09b7e16445182d06add1073eba1": {
     "model_module": "@jupyter-widgets/base",
     "model_module_version": "1.2.0",
     "model_name": "LayoutModel",
     "state": {
      "_model_module": "@jupyter-widgets/base",
      "_model_module_version": "1.2.0",
      "_model_name": "LayoutModel",
      "_view_count": null,
      "_view_module": "@jupyter-widgets/base",
      "_view_module_version": "1.2.0",
      "_view_name": "LayoutView",
      "align_content": null,
      "align_items": null,
      "align_self": null,
      "border": null,
      "bottom": null,
      "display": null,
      "flex": null,
      "flex_flow": null,
      "grid_area": null,
      "grid_auto_columns": null,
      "grid_auto_flow": null,
      "grid_auto_rows": null,
      "grid_column": null,
      "grid_gap": null,
      "grid_row": null,
      "grid_template_areas": null,
      "grid_template_columns": null,
      "grid_template_rows": null,
      "height": null,
      "justify_content": null,
      "justify_items": null,
      "left": null,
      "margin": null,
      "max_height": null,
      "max_width": null,
      "min_height": null,
      "min_width": null,
      "object_fit": null,
      "object_position": null,
      "order": null,
      "overflow": null,
      "overflow_x": null,
      "overflow_y": null,
      "padding": null,
      "right": null,
      "top": null,
      "visibility": null,
      "width": null
     }
    },
    "fba0efad45704e1781aaddd7c7fb5f6f": {
     "model_module": "@jupyter-widgets/controls",
     "model_module_version": "1.5.0",
     "model_name": "BoundedIntTextModel",
     "state": {
      "_dom_classes": [],
      "_model_module": "@jupyter-widgets/controls",
      "_model_module_version": "1.5.0",
      "_model_name": "BoundedIntTextModel",
      "_view_count": null,
      "_view_module": "@jupyter-widgets/controls",
      "_view_module_version": "1.5.0",
      "_view_name": "IntTextView",
      "continuous_update": false,
      "description": "age",
      "description_tooltip": null,
      "disabled": false,
      "layout": "IPY_MODEL_00045e57ce474df0a31e48129a75678d",
      "max": 120,
      "min": 14,
      "step": 1,
      "style": "IPY_MODEL_272c7b09bad9419a8a059792ba8cc7e4",
      "value": 25
     }
    }
   }
  }
 },
 "nbformat": 4,
 "nbformat_minor": 1
}
